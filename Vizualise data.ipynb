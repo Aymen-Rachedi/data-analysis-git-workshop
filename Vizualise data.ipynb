{
 "cells": [
  {
   "cell_type": "code",
   "execution_count": null,
   "id": "8affd72a",
   "metadata": {},
   "outputs": [],
   "source": [
    "import pandas as pd\n",
    "import matplotlib.pyplot as plt"
   ]
  },
  {
   "cell_type": "code",
   "execution_count": null,
   "id": "be429cf2",
   "metadata": {},
   "outputs": [],
   "source": [
    "df = pd.read_csv(\"data/sales.csv\")\n",
    "df.groupby(\"product\")[\"quantity\"].sum().plot(kind=\"bar\")\n",
    "plt.title(\"Total Quantity Sold per Product\")\n",
    "plt.show()"
   ]
  },
  {
   "cell_type": "code",
   "execution_count": null,
   "id": "90b9d5ad",
   "metadata": {},
   "outputs": [],
   "source": []
  }
 ],
 "metadata": {
  "language_info": {
   "name": "python"
  }
 },
 "nbformat": 4,
 "nbformat_minor": 5
}
