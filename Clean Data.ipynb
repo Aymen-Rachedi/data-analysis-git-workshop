{
 "cells": [
  {
   "cell_type": "code",
   "execution_count": null,
   "id": "e2632e3a",
   "metadata": {},
   "outputs": [],
   "source": [
    " import pandas as pd"
   ]
  },
  {
   "cell_type": "code",
   "execution_count": null,
   "id": "4cb3b663",
   "metadata": {},
   "outputs": [],
   "source": [
    "def clean_sales_data(file_path):\n",
    "    df = pd.read_csv(file_path)\n",
    "    df.dropna(inplace=True)\n",
    "    return df\n",
    "\n",
    "if __name__ == \"__main__\":\n",
    "    df = clean_sales_data(\"data/sales.csv\")\n",
    "    print(df.head())\n"
   ]
  }
 ],
 "metadata": {
  "kernelspec": {
   "display_name": "base",
   "language": "python",
   "name": "python3"
  },
  "language_info": {
   "name": "python",
   "version": "3.12.7"
  }
 },
 "nbformat": 4,
 "nbformat_minor": 5
}
